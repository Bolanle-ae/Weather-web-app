{
 "cells": [
  {
   "cell_type": "code",
   "execution_count": 1,
   "id": "6575b93b",
   "metadata": {},
   "outputs": [
    {
     "name": "stdout",
     "output_type": "stream",
     "text": [
      "Enter a city name: Lagos, Nigeria\n",
      "Weather in Lagos, Nigeria: Partly cloudy\n",
      "Temperature: 33°C\n"
     ]
    }
   ],
   "source": [
    "# API COONECTION CODE\n",
    "\n",
    "import requests\n",
    "import json\n",
    "\n",
    "def get_weather_data(city):\n",
    "    access_key = \"6406c4168dd2ac75826b1da79a0b64e0\"\n",
    "    base_url = \"http://api.weatherstack.com/current\"\n",
    "\n",
    "    params = {\n",
    "        'access_key': access_key,\n",
    "        'query': city,\n",
    "        'units': 'm'\n",
    "    }\n",
    "\n",
    "    response = requests.get(base_url, params=params)\n",
    "\n",
    "    if response.status_code == 200:\n",
    "        return json.loads(response.text)\n",
    "    else:\n",
    "        return None\n",
    "\n",
    "city_name = input(\"Enter a city name: \")\n",
    "weather_data = get_weather_data(city_name)\n",
    "\n",
    "if weather_data:\n",
    "    print(f\"Weather in {city_name}: {weather_data['current']['weather_descriptions'][0]}\")\n",
    "    print(f\"Temperature: {weather_data['current']['temperature']}°C\")\n",
    "else:\n",
    "    print(\"Weather data not available\")\n"
   ]
  },
  {
   "cell_type": "code",
   "execution_count": null,
   "id": "4b2cc2d2",
   "metadata": {},
   "outputs": [
    {
     "name": "stdout",
     "output_type": "stream",
     "text": [
      " * Serving Flask app \"__main__\" (lazy loading)\n",
      " * Environment: production\n",
      "\u001b[31m   WARNING: This is a development server. Do not use it in a production deployment.\u001b[0m\n",
      "\u001b[2m   Use a production WSGI server instead.\u001b[0m\n",
      " * Debug mode: off\n"
     ]
    },
    {
     "name": "stderr",
     "output_type": "stream",
     "text": [
      " * Running on http://127.0.0.1:5000/ (Press CTRL+C to quit)\n",
      "127.0.0.1 - - [04/Dec/2023 15:09:50] \"GET / HTTP/1.1\" 200 -\n",
      "127.0.0.1 - - [04/Dec/2023 15:09:58] \"POST /weather HTTP/1.1\" 200 -\n",
      "127.0.0.1 - - [04/Dec/2023 15:10:14] \"GET / HTTP/1.1\" 200 -\n",
      "127.0.0.1 - - [04/Dec/2023 15:10:27] \"POST /weather HTTP/1.1\" 200 -\n",
      "127.0.0.1 - - [04/Dec/2023 15:10:53] \"GET / HTTP/1.1\" 200 -\n",
      "127.0.0.1 - - [04/Dec/2023 15:11:13] \"POST /weather HTTP/1.1\" 200 -\n",
      "127.0.0.1 - - [04/Dec/2023 15:11:22] \"GET / HTTP/1.1\" 200 -\n",
      "127.0.0.1 - - [04/Dec/2023 15:11:28] \"POST /weather HTTP/1.1\" 200 -\n",
      "127.0.0.1 - - [04/Dec/2023 15:11:44] \"GET / HTTP/1.1\" 200 -\n",
      "127.0.0.1 - - [04/Dec/2023 15:11:53] \"POST /weather HTTP/1.1\" 200 -\n",
      "127.0.0.1 - - [04/Dec/2023 15:12:26] \"GET / HTTP/1.1\" 200 -\n",
      "127.0.0.1 - - [04/Dec/2023 15:12:44] \"POST /weather HTTP/1.1\" 200 -\n",
      "127.0.0.1 - - [04/Dec/2023 15:12:56] \"GET / HTTP/1.1\" 200 -\n",
      "127.0.0.1 - - [04/Dec/2023 15:13:14] \"POST /weather HTTP/1.1\" 200 -\n"
     ]
    }
   ],
   "source": [
    "# FLASK CODE\n",
    "\n",
    "from flask import Flask, render_template, request\n",
    "\n",
    "app = Flask(__name__)\n",
    "@app.route(\"/\")\n",
    "\n",
    "def home():\n",
    "    return render_template(\"indexx.html\")\n",
    "\n",
    "@app.route(\"/weather\", methods=[\"GET\", \"POST\"])\n",
    "def index():\n",
    "    if request.method == \"GET\":\n",
    "        return render_template('indexx.html')\n",
    "    elif request.method == \"POST\":\n",
    "        city= request.form['city']\n",
    "        \n",
    "        weather_data = get_weather_data(city)\n",
    "        \n",
    "        if weather_data:\n",
    "            return render_template('weather.html', city_name=city, weather_data=weather_data)\n",
    "    #              return render_template('indexx.html')\n",
    "        else:\n",
    "            return \"Error fetching weather data.\"\n",
    "\n",
    "            \n",
    "if __name__ == '__main__':\n",
    "    app.run()"
   ]
  },
  {
   "cell_type": "code",
   "execution_count": null,
   "id": "c995964d",
   "metadata": {},
   "outputs": [],
   "source": []
  }
 ],
 "metadata": {
  "kernelspec": {
   "display_name": "Python 3 (ipykernel)",
   "language": "python",
   "name": "python3"
  },
  "language_info": {
   "codemirror_mode": {
    "name": "ipython",
    "version": 3
   },
   "file_extension": ".py",
   "mimetype": "text/x-python",
   "name": "python",
   "nbconvert_exporter": "python",
   "pygments_lexer": "ipython3",
   "version": "3.9.7"
  }
 },
 "nbformat": 4,
 "nbformat_minor": 5
}
